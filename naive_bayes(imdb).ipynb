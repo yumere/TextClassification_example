{
 "cells": [
  {
   "cell_type": "markdown",
   "metadata": {
    "collapsed": true
   },
   "source": [
    "# Text Classification using Naive Bayes"
   ]
  },
  {
   "cell_type": "code",
   "execution_count": 1,
   "metadata": {
    "ExecuteTime": {
     "end_time": "2017-07-24T13:32:21.141113Z",
     "start_time": "2017-07-24T13:32:20.934440Z"
    },
    "collapsed": true
   },
   "outputs": [],
   "source": [
    "%matplotlib inline\n",
    "import bs4\n",
    "import nltk\n",
    "import tqdm\n",
    "import os\n",
    "from collections import Counter\n",
    "from decimal import Decimal"
   ]
  },
  {
   "cell_type": "markdown",
   "metadata": {},
   "source": [
    "# For Train"
   ]
  },
  {
   "cell_type": "markdown",
   "metadata": {},
   "source": [
    "## Data Load"
   ]
  },
  {
   "cell_type": "code",
   "execution_count": 2,
   "metadata": {
    "ExecuteTime": {
     "end_time": "2017-07-24T13:32:25.901015Z",
     "start_time": "2017-07-24T13:32:24.038055Z"
    }
   },
   "outputs": [
    {
     "name": "stderr",
     "output_type": "stream",
     "text": [
      "100%|█████████████████████████████████████████████████████████████████████████| 12500/12500 [00:00<00:00, 13729.20it/s]\n",
      "100%|█████████████████████████████████████████████████████████████████████████| 12500/12500 [00:00<00:00, 13595.17it/s]\n"
     ]
    }
   ],
   "source": [
    "TRAIN_DIR = \"aclImdb/train\"\n",
    "\n",
    "train_pos = []\n",
    "train_neg = []\n",
    "# get positive reviews\n",
    "for filename in tqdm.tqdm(os.listdir(os.path.join(TRAIN_DIR, \"pos\"))):\n",
    "    with open(os.path.join(TRAIN_DIR, \"pos\", filename), \"rt\", encoding=\"utf8\") as f:\n",
    "        train_pos.append(f.read())\n",
    "        \n",
    "# get negative reviews\n",
    "for filename in tqdm.tqdm(os.listdir(os.path.join(TRAIN_DIR, \"neg\"))):\n",
    "    with open(os.path.join(TRAIN_DIR, \"neg\", filename), \"rt\", encoding=\"utf8\") as f:\n",
    "        train_neg.append(f.read())"
   ]
  },
  {
   "cell_type": "markdown",
   "metadata": {},
   "source": [
    "## Tokenize & Count"
   ]
  },
  {
   "cell_type": "code",
   "execution_count": 3,
   "metadata": {
    "ExecuteTime": {
     "end_time": "2017-07-24T13:37:33.682669Z",
     "start_time": "2017-07-24T13:32:29.694211Z"
    }
   },
   "outputs": [
    {
     "name": "stderr",
     "output_type": "stream",
     "text": [
      "100%|████████████████████████████████████████████████████████████████████████████| 12500/12500 [02:34<00:00, 80.98it/s]\n",
      "100%|████████████████████████████████████████████████████████████████████████████| 12500/12500 [02:29<00:00, 83.54it/s]\n"
     ]
    }
   ],
   "source": [
    "pos_cnt = Counter()\n",
    "neg_cnt = Counter()\n",
    "for txt in tqdm.tqdm(train_pos):\n",
    "    words = [word for word, pos in nltk.pos_tag(nltk.word_tokenize(txt))]\n",
    "    pos_cnt.update(words)\n",
    "    \n",
    "for txt in tqdm.tqdm(train_neg):\n",
    "    words = [word for word, pos in nltk.pos_tag(nltk.word_tokenize(txt))]\n",
    "    neg_cnt.update(words)"
   ]
  },
  {
   "cell_type": "code",
   "execution_count": 4,
   "metadata": {
    "ExecuteTime": {
     "end_time": "2017-07-24T13:37:33.784943Z",
     "start_time": "2017-07-24T13:37:33.684173Z"
    }
   },
   "outputs": [
    {
     "name": "stdout",
     "output_type": "stream",
     "text": [
      "Vocab Size: 134,957\n",
      "Positive Word Count: 3,556,186\n",
      "Negative Word Count: 3,500,346\n"
     ]
    }
   ],
   "source": [
    "vocab = set()\n",
    "vocab.update(list(pos_cnt.keys()))\n",
    "vocab.update(list(neg_cnt.keys()))\n",
    "V_size = len(vocab)\n",
    "print(\"Vocab Size: {:,}\".format(V_size))\n",
    "\n",
    "pos_wc = 0\n",
    "for k, v in pos_cnt.items():\n",
    "    pos_wc += v\n",
    "print(\"Positive Word Count: {:,}\".format(pos_wc))\n",
    "    \n",
    "neg_wc = 0\n",
    "for k, v in neg_cnt.items():\n",
    "    neg_wc += v\n",
    "print(\"Negative Word Count: {:,}\".format(neg_wc))"
   ]
  },
  {
   "cell_type": "markdown",
   "metadata": {},
   "source": [
    "# For Test"
   ]
  },
  {
   "cell_type": "markdown",
   "metadata": {},
   "source": [
    "## Data Load"
   ]
  },
  {
   "cell_type": "code",
   "execution_count": 5,
   "metadata": {
    "ExecuteTime": {
     "end_time": "2017-07-24T13:37:43.333643Z",
     "start_time": "2017-07-24T13:37:41.486680Z"
    }
   },
   "outputs": [
    {
     "name": "stderr",
     "output_type": "stream",
     "text": [
      "100%|█████████████████████████████████████████████████████████████████████████| 12500/12500 [00:00<00:00, 13726.67it/s]\n",
      "100%|█████████████████████████████████████████████████████████████████████████| 12500/12500 [00:00<00:00, 13730.31it/s]\n"
     ]
    }
   ],
   "source": [
    "TEST_DIR = \"aclImdb/test\"\n",
    "\n",
    "test_pos = []\n",
    "test_neg = []\n",
    "# get positive reviews\n",
    "for filename in tqdm.tqdm(os.listdir(os.path.join(TEST_DIR, \"pos\"))):\n",
    "    with open(os.path.join(TEST_DIR, \"pos\", filename), \"rt\", encoding=\"utf8\") as f:\n",
    "        test_pos.append(f.read())\n",
    "        \n",
    "# get negative reviews\n",
    "for filename in tqdm.tqdm(os.listdir(os.path.join(TEST_DIR, \"neg\"))):\n",
    "    with open(os.path.join(TEST_DIR, \"neg\", filename), \"rt\", encoding=\"utf8\") as f:\n",
    "        test_neg.append(f.read())"
   ]
  },
  {
   "cell_type": "markdown",
   "metadata": {},
   "source": [
    "## Calculate Naive Bayes"
   ]
  },
  {
   "cell_type": "code",
   "execution_count": 6,
   "metadata": {
    "ExecuteTime": {
     "end_time": "2017-07-24T13:43:04.119974Z",
     "start_time": "2017-07-24T13:37:47.551219Z"
    }
   },
   "outputs": [
    {
     "name": "stderr",
     "output_type": "stream",
     "text": [
      "100%|████████████████████████████████████████████████████████████████████████████| 12500/12500 [02:39<00:00, 78.61it/s]\n"
     ]
    },
    {
     "name": "stdout",
     "output_type": "stream",
     "text": [
      "9530 / 12,500 (76.24%)\n"
     ]
    },
    {
     "name": "stderr",
     "output_type": "stream",
     "text": [
      "100%|████████████████████████████████████████████████████████████████████████████| 12500/12500 [02:37<00:00, 58.94it/s]\n"
     ]
    },
    {
     "name": "stdout",
     "output_type": "stream",
     "text": [
      "11180 / 12,500 (89.44%)\n"
     ]
    }
   ],
   "source": [
    "pos_answer = 0\n",
    "for txt in tqdm.tqdm(test_pos):\n",
    "    cnt = Counter()\n",
    "    cnt.update([word for word, pos in nltk.pos_tag(nltk.word_tokenize(txt))])\n",
    "    pos_acc = Decimal(1.)\n",
    "    for k, v in cnt.items():\n",
    "        pos_acc *= Decimal(((pos_cnt[k] + 1) / (pos_wc + V_size + 1)))\n",
    "    neg_acc = Decimal(1.)\n",
    "    for k, v in cnt.items():\n",
    "        neg_acc *= Decimal((neg_cnt[k] + 1) / (neg_wc + V_size + 1))\n",
    "    \n",
    "    if pos_acc > neg_acc:\n",
    "        pos_answer += 1\n",
    "print(\"{} / 12,500 ({}%)\".format(pos_answer, round(pos_answer/12500*100, 2)))\n",
    "  \n",
    "neg_answer = 0\n",
    "for txt in tqdm.tqdm(test_neg):\n",
    "    cnt = Counter()\n",
    "    cnt.update([word for word, pos in nltk.pos_tag(nltk.word_tokenize(txt))])\n",
    "    pos_acc = Decimal(1.)\n",
    "    for k, v in cnt.items():\n",
    "        pos_acc *= Decimal(((pos_cnt[k] + 1) / (pos_wc + V_size + 1)))\n",
    "    \n",
    "    neg_acc = Decimal(1.)\n",
    "    for k, v in cnt.items():\n",
    "        neg_acc *= Decimal((neg_cnt[k] + 1) / (neg_wc + V_size + 1))\n",
    "    \n",
    "    if pos_acc < neg_acc:\n",
    "        neg_answer += 1\n",
    "        \n",
    "print(\"{} / 12,500 ({}%)\".format(neg_answer, round(neg_answer/12500*100, 2)))"
   ]
  }
 ],
 "metadata": {
  "kernelspec": {
   "display_name": "Python 3",
   "language": "python",
   "name": "python3"
  },
  "language_info": {
   "codemirror_mode": {
    "name": "ipython",
    "version": 3
   },
   "file_extension": ".py",
   "mimetype": "text/x-python",
   "name": "python",
   "nbconvert_exporter": "python",
   "pygments_lexer": "ipython3",
   "version": "3.5.3"
  }
 },
 "nbformat": 4,
 "nbformat_minor": 1
}
